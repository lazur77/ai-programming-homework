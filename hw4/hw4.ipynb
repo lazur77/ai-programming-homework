{
 "cells": [
  {
   "cell_type": "markdown",
   "metadata": {},
   "source": [
    "# Programming for Artificial Intelligence（Python）- Homework 4\n",
    "\n",
    "**Student:** 林澈 \n",
    "\n",
    "**Student ID:** 15220202205098\n",
    "\n"
   ]
  },
  {
   "cell_type": "markdown",
   "metadata": {},
   "source": [
    "## Question 1 Wrapper function"
   ]
  },
  {
   "cell_type": "code",
   "execution_count": 14,
   "metadata": {},
   "outputs": [
    {
     "data": {
      "text/plain": [
       "0.5"
      ]
     },
     "execution_count": 14,
     "metadata": {},
     "output_type": "execute_result"
    }
   ],
   "source": [
    "import numpy as np\n",
    "\n",
    "x = [1, 2, None]\n",
    "\n",
    "def filter(func):\n",
    "    def wrapper(lst):\n",
    "        return func([l for l in lst if l is not None])\n",
    "    return wrapper\n",
    "\n",
    "\n",
    "@filter\n",
    "def standard_deviation(lst):\n",
    "    return np.std(lst)\n",
    "\n",
    "standard_deviation(x)"
   ]
  },
  {
   "cell_type": "markdown",
   "metadata": {},
   "source": [
    "## Question 2 Log information"
   ]
  },
  {
   "cell_type": "code",
   "execution_count": 15,
   "metadata": {},
   "outputs": [
    {
     "name": "stdout",
     "output_type": "stream",
     "text": [
      "start time: 1712892975.716168\n",
      "s=2886751.3459480824\n",
      "endtime: 1712892976.8323169 \n"
     ]
    },
    {
     "data": {
      "text/plain": [
       "2886751.3459480824"
      ]
     },
     "execution_count": 15,
     "metadata": {},
     "output_type": "execute_result"
    }
   ],
   "source": [
    "import time\n",
    "\n",
    "\n",
    "def mysdlog(x):\n",
    "    start_time = time.time()\n",
    "    sd = standard_deviation(x)\n",
    "    end_time = time.time()\n",
    "    print(f\"start time: {start_time}\\ns={sd}\\nendtime: {end_time} \")\n",
    "    return sd\n",
    "\n",
    "\n",
    "x = [range(10000000)]\n",
    "mysdlog(x)"
   ]
  },
  {
   "cell_type": "markdown",
   "metadata": {},
   "source": [
    "## Question 3 Logistic regression"
   ]
  },
  {
   "cell_type": "markdown",
   "metadata": {},
   "source": [
    "### 3.1 Likelihood (in words)\n",
    "\n",
    " Given the logistic model for the probability of $ y = 1 $ as a function of $ x $:\n",
    "\n",
    "$$\n",
    "\\text{Pr}(y=1) = f(x) = \\frac{e^{a+bx}}{1+e^{a+bx}}\n",
    "$$\n",
    "\n",
    "The probability of $ y = 0 $ can be expressed as:\n",
    "\n",
    "$$\n",
    "\\text{Pr}(y=0) = 1 - f(x) = 1 - \\frac{e^{a+bx}}{1+e^{a+bx}}\n",
    "$$\n",
    "\n",
    "\n",
    "Therefore, the the probability of the data based on our model is:\n",
    "$$\n",
    "L(a,b) = \\prod_{i=1}^{n} f(x_i)^{y_i} \\times (1 - f(x_i))^{(1 - y_i)}\n",
    "$$\n",
    "\n",
    "Where \n",
    "- $ n $ is the number of observations. \n",
    "- $ x_i $ is the $ i $-th input value.\n",
    "- $ y_i $ is the $ i $-th output value.\n"
   ]
  },
  {
   "cell_type": "markdown",
   "metadata": {},
   "source": [
    "### 3.2 Likelihood"
   ]
  },
  {
   "cell_type": "code",
   "execution_count": 16,
   "metadata": {},
   "outputs": [
    {
     "data": {
      "text/plain": [
       "0.0002937983603191941"
      ]
     },
     "execution_count": 16,
     "metadata": {},
     "output_type": "execute_result"
    }
   ],
   "source": [
    "\n",
    "x = np.array([0.1, 0.2, 0.25, 0.26, 0.3, 0.65, 0.8, 0.83, 0.9, 0.93])\n",
    "y = np.array([0, 1, 0, 0, 0, 1, 1, 0, 1, 1])\n",
    "\n",
    "\n",
    "def lik(x, y, a, b):\n",
    "    f_x = 1 / (1 + np.exp(-(a + b * np.array(x))))\n",
    "    likelihood = np.prod(f_x**y * (1 - f_x)**(1 - y))\n",
    "    return likelihood\n",
    "\n",
    "likelihood_value = lik(x, y, 1, 0)\n",
    "likelihood_value\n"
   ]
  },
  {
   "cell_type": "markdown",
   "metadata": {},
   "source": [
    "### 3.3 Log-likelihood (in words)\n",
    "\n",
    "Given the likelihood function:\n",
    "\n",
    "$$\n",
    "L(a,b) = \\prod_{i=1}^{n} f(x_i)^{y_i} \\times (1 - f(x_i))^{(1 - y_i)}\n",
    "$$\n",
    "\n",
    "the log-likelihood is:\n",
    "\n",
    "$$\n",
    "l(a, b) = \\log L(a, b) = \\sum_{i=1}^{n} \\Big[ y_i \\log\\big(f(x_i)\\big) + (1 - y_i) \\log\\big(1 - f(x_i)\\big) \\Big]\n",
    "$$\n",
    "\n",
    "where \n",
    "$$ \n",
    "f(x_i) = \\frac{e^{a+bx_i}}{1+e^{a+bx_i}} \n",
    "$$\n",
    "\n"
   ]
  },
  {
   "cell_type": "markdown",
   "metadata": {},
   "source": [
    "### 3.4 Derivatives (in words)\n",
    "\n",
    "Denote $e^{a+bx} = z$, we have \n",
    "\n",
    "\n",
    "$$\\tag{1}\n",
    "\\begin{aligned}\n",
    "\\frac{\\partial f(x_i)}{\\partial a} \n",
    "&= \\frac{\\partial f(x_i)}{\\partial z}\\times\\frac{\\partial z}{\\partial a}\\\\\n",
    "&= (1+z)^{-2}\\times e^{a+bx_i}\\\\\n",
    "&= \\frac{e^{a+bx_i}}{(1+e^{a+bx_i})^2}\\\\\n",
    "\\end{aligned}\n",
    "$$\n",
    "\n",
    "\n",
    "$$\\tag{2}\n",
    "\\begin{aligned}\n",
    "\n",
    "\\frac{\\partial f(x_i)}{\\partial b} \n",
    "&= \\frac{\\partial f(x_i)}{\\partial z}\\times\\frac{\\partial z}{\\partial b}\\\\\n",
    "&= (1+z)^{-2}\\times e^{a+bx_i}\\times x_i\\\\\n",
    "&= \\frac{e^{a+bx_i}}{(1+e^{a+bx_i})^2}\\times x_i\\\\\n",
    "\\end{aligned}\n",
    "$$\n",
    "\n",
    "Therefore, the derivatives of that log likelihood are:\n",
    "\n",
    "$$\n",
    "\\begin{aligned}\n",
    "\\frac{\\partial l(a,b)}{\\partial a} \n",
    "&= \\sum_{i=1}^{n} \\Big[ y_i \\frac{\\partial}{\\partial a} \\log\\big(f(x_i)\\big) + (1 - y_i) \\frac{\\partial}{\\partial a}\\log\\big(1 - f(x_i)\\big) \\Big]\\\\\n",
    "&= \\sum_{i=1}^{n} \\Big[ y_i \\frac{1}{f(x_i)}- (1 - y_i) \\frac{1}{1-f(x_i)}\\Big]\\frac{\\partial f(x_i)}{\\partial a} \\\\\n",
    "&= \\sum_{i=1}^{n} \\Big[ \\frac{y_i }{f(x_i)}- \\frac{(1 - y_i) }{1-f(x_i)}\\Big]\\frac{e^{a+bx_i}}{(1+e^{a+bx_i})^2} \\text{ by using the result from (1)}\\\\\n",
    "&= \\sum_{i=1}^{n} \\Big[ \\frac{y_i-f(x_i) }{f(x_i)(1 - f(x_i))}\\Big]\\frac{e^{a+bx_i}}{(1+e^{a+bx_i})^2} \\\\\n",
    "&= \\sum_{i=1}^{n} \\Big( y_i - f(x_i)\\Big)\\frac{(1+e^{a+bx_i})^2}{e^{a+bx_i}}\\times\\frac{e^{a+bx_i}}{(1+e^{a+bx_i})^2} \\\\\n",
    "&= \\sum_{i=1}^{n} \\Big( y_i - f(x_i)\\Big) \\\\\n",
    "\\end{aligned}\n",
    "$$\n",
    "\n",
    "Similarily, \n",
    "\n",
    "$$\n",
    "\\begin{aligned}\n",
    "\\frac{\\partial l(a,b)}{\\partial b} \n",
    "&= \\sum_{i=1}^{n} \\Big[ y_i \\frac{\\partial}{\\partial b} \\log\\big(f(x_i)\\big) + (1 - y_i) \\frac{\\partial}{\\partial b}\\log\\big(1 - f(x_i)\\big) \\Big]\\\\\n",
    "&= \\sum_{i=1}^{n} \\Big[ y_i \\frac{1}{f(x_i)}- (1 - y_i) \\frac{1}{1-f(x_i)}\\Big]\\frac{\\partial f(x_i)}{\\partial b} \\\\\n",
    "&= \\sum_{i=1}^{n} \\Big[ \\frac{y_i }{f(x_i)}- \\frac{(1 - y_i) }{1-f(x_i)}\\Big]\\frac{e^{a+bx_i}}{(1+e^{a+bx_i})^2} \\times x_i\\text{ by using the result from (2)}\\\\\n",
    "&= \\sum_{i=1}^{n} \\Big[ \\frac{y_i-f(x_i) }{f(x_i)(1 - f(x_i))}\\Big]\\frac{e^{a+bx_i}}{(1+e^{a+bx_i})^2} \\times x_i\\\\\n",
    "&= \\sum_{i=1}^{n} \\Big( y_i - f(x_i)\\Big)\\frac{(1+e^{a+bx_i})^2}{e^{a+bx_i}}\\times\\frac{e^{a+bx_i}}{(1+e^{a+bx_i})^2}\\times x_i\\\\\n",
    "&= \\sum_{i=1}^{n} \\Big( y_i - f(x_i)\\Big) \\times  x_i\\\\\n",
    "\\end{aligned}\n"
   ]
  },
  {
   "cell_type": "code",
   "execution_count": 17,
   "metadata": {},
   "outputs": [
    {
     "data": {
      "text/plain": [
       "('\\\\frac{e^{a + b x_{i}}}{2 e^{a + b x_{i}} + e^{2 a + 2 b x_{i}} + 1}',\n",
       " '\\\\frac{x_{i} e^{a + b x_{i}}}{2 e^{a + b x_{i}} + e^{2 a + 2 b x_{i}} + 1}')"
      ]
     },
     "execution_count": 17,
     "metadata": {},
     "output_type": "execute_result"
    }
   ],
   "source": [
    "# verify the calculation process\n",
    "\n",
    "from sympy import symbols, diff, exp, simplify, latex\n",
    "\n",
    "# Define symbols\n",
    "a, b, x_i = symbols('a b x_i')\n",
    "\n",
    "# Define the function\n",
    "f = exp(a + b*x_i) / (1 + exp(a + b*x_i))\n",
    "\n",
    "# Perform differentiation with respect to 'a' and 'b'\n",
    "df_da = diff(f, a)\n",
    "df_db = diff(f, b)\n",
    "\n",
    "# Simplify the results\n",
    "df_da_simplified = simplify(df_da)\n",
    "df_db_simplified = simplify(df_db)\n",
    "\n",
    "df_da_simplified, df_db_simplified\n",
    "\n",
    "\n",
    "# Convert the simplified derivatives to LaTeX form\n",
    "latex_df_da = latex(df_da_simplified)\n",
    "latex_df_db = latex(df_db_simplified)\n",
    "\n",
    "latex_df_da, latex_df_db"
   ]
  },
  {
   "cell_type": "markdown",
   "metadata": {},
   "source": [
    "### 3.5 Derivatives"
   ]
  },
  {
   "cell_type": "code",
   "execution_count": 18,
   "metadata": {},
   "outputs": [],
   "source": [
    "\n",
    "def f(x, a, b):\n",
    "    return np.exp(a + b * x) / (1 + np.exp(a + b * x))\n",
    "\n",
    "def la(x, y, a, b):\n",
    "    f_x = f(x, a, b)\n",
    "    return np.sum(y - f_x)\n",
    "\n",
    "def lb(x, y, a, b):\n",
    "    f_x = f(x, a, b)\n",
    "    return np.sum((y - f_x) * x)\n",
    "\n"
   ]
  },
  {
   "cell_type": "markdown",
   "metadata": {},
   "source": [
    "### 3.6 Gradient descent "
   ]
  },
  {
   "cell_type": "code",
   "execution_count": 19,
   "metadata": {},
   "outputs": [
    {
     "name": "stdout",
     "output_type": "stream",
     "text": [
      "Estimated parameters:\n",
      "a = 0.7919553684969766\n",
      "b = -0.021121790344299073\n"
     ]
    }
   ],
   "source": [
    "\n",
    "a0 = 1\n",
    "b0 = 0\n",
    "gamma = 0.001\n",
    "\n",
    "\n",
    "for _ in range(100):\n",
    "    \n",
    "    a0 += gamma * la(x, y, a0, b0)\n",
    "    b0 += gamma * lb(x, y, a0, b0)\n",
    "\n",
    "print(\"Estimated parameters:\")\n",
    "print(\"a =\", a0)\n",
    "print(\"b =\", b0)"
   ]
  },
  {
   "cell_type": "markdown",
   "metadata": {},
   "source": [
    "### 3.7 Gradient descent with a stopping criterion"
   ]
  },
  {
   "cell_type": "code",
   "execution_count": 20,
   "metadata": {},
   "outputs": [
    {
     "name": "stdout",
     "output_type": "stream",
     "text": [
      "Estimated parameters: a_hat = 1.0023, b_hat = 0.0003\n"
     ]
    }
   ],
   "source": [
    "a_hat = 1\n",
    "b_hat = 0\n",
    "gamma = 0.001\n",
    "\n",
    "def log_likelihood(x, y, a, b):\n",
    "    f_x = f(x, a, b)\n",
    "    return np.sum(y * np.log(f_x) + (1 - y) * np.log(1 - f_x))\n",
    "\n",
    "prev_ll = log_likelihood(x, y, a_hat, b_hat)\n",
    "\n",
    "while True:\n",
    "    a_hat -= gamma * la(x, y, a_hat, b_hat)\n",
    "    b_hat -= gamma * lb(x, y, a_hat, b_hat)\n",
    "\n",
    "    current_ll = log_likelihood(x, y, a_hat, b_hat)\n",
    "\n",
    "    if abs(current_ll - prev_ll) < 0.01:\n",
    "        break\n",
    "\n",
    "    prev_ll = current_ll\n",
    "\n",
    "print(f\"Estimated parameters: a_hat = {a_hat:.4f}, b_hat = {b_hat:.4f}\")\n"
   ]
  },
  {
   "cell_type": "markdown",
   "metadata": {},
   "source": [
    "## Reference\n",
    "\n",
    "- Course slides"
   ]
  },
  {
   "cell_type": "markdown",
   "metadata": {},
   "source": []
  }
 ],
 "metadata": {
  "kernelspec": {
   "display_name": "Python 3",
   "language": "python",
   "name": "python3"
  },
  "language_info": {
   "codemirror_mode": {
    "name": "ipython",
    "version": 3
   },
   "file_extension": ".py",
   "mimetype": "text/x-python",
   "name": "python",
   "nbconvert_exporter": "python",
   "pygments_lexer": "ipython3",
   "version": "3.11.8"
  }
 },
 "nbformat": 4,
 "nbformat_minor": 2
}
