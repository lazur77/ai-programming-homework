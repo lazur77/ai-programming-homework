{
 "cells": [
  {
   "cell_type": "markdown",
   "metadata": {},
   "source": [
    "# Programming for Artificial Intelligence（Python）- Homework 3\n",
    "\n",
    "**Student:** 林澈 \n",
    "\n",
    "**Student ID:** 15220202205098\n"
   ]
  },
  {
   "cell_type": "markdown",
   "metadata": {},
   "source": [
    "## Question 1 Logic of the Loop"
   ]
  },
  {
   "cell_type": "code",
   "execution_count": 180,
   "metadata": {},
   "outputs": [],
   "source": [
    "## Question 1 Logic of the Loop\n",
    "\n",
    "# 1. naive_by2(nums, 2)\n",
    "# 2. n = 10 // 2 = 5\n",
    "# 3. i = 0, res = [lst[2*0], lst[2*0+1]] = [1, 2]\n",
    "# 4. i = 1, res = [lst[2*1], lst[2*1+1]] = [3, 4]\n",
    "# 5. i = 2, res = [lst[2*2], lst[2*2+1]] = [5, 6]\n",
    "# 6. i = 3, res = [lst[2*3], lst[2*3+1]] = [7, 8]\n",
    "# 7. i = 4, res = [lst[2*4], lst[2*4+1]] = [9, 10]\n",
    "# 8. return res = [[1, 2], [3, 4], [5, 6], [7, 8], [9, 10]]"
   ]
  },
  {
   "cell_type": "markdown",
   "metadata": {},
   "source": [
    "# Qeustion 2 Grouper\n",
    "\n",
    "- Method 1 Manual Append:\n",
    "  - Pros: Transparent and easy to understand.\n",
    "  - Cons: Risks 'index out of range' errors with variable list sizes.\n",
    "\n",
    "- Method 2 Slicing with Steps:\n",
    "  - Pros: Adapts dynamically to different list lengths."
   ]
  },
  {
   "cell_type": "code",
   "execution_count": 181,
   "metadata": {},
   "outputs": [
    {
     "name": "stdout",
     "output_type": "stream",
     "text": [
      "[[1, 3, 5, 7, 9], [2, 4, 6, 8, 10]]\n"
     ]
    }
   ],
   "source": [
    "## Qeustion 2 Grouper\n",
    "\n",
    "def naive_by2(lst, by):\n",
    "    n = len(lst) // by \n",
    "    res = []\n",
    "    for i in range(n):\n",
    "        # method 1: manual Append\n",
    "        # try:\n",
    "        #     res.append([lst[i*by], lst[i*by+1], lst[i*by+2], lst[i*by+3], lst[i*by+4]])\n",
    "        # except:\n",
    "        #     res.append([f'Error: i={i}'])\n",
    "        # method 2 slicing with Steps\n",
    "        res.append(lst[i: i+2*by: 2])\n",
    "        \n",
    "    return res\n",
    "\n",
    "nums = [1, 2, 3, 4, 5, 6, 7, 8, 9, 10]\n",
    "\n",
    "print(naive_by2(nums, 5))\n",
    "\n",
    "# test for i = 1, 2, ..., len(nums)\n",
    "# for i in range(len(nums)):\n",
    "#     print(f'i={i}: {naive_by2(nums, i+1)}')"
   ]
  },
  {
   "cell_type": "markdown",
   "metadata": {},
   "source": [
    "## Question 3 Square Generator"
   ]
  },
  {
   "cell_type": "code",
   "execution_count": 182,
   "metadata": {},
   "outputs": [
    {
     "name": "stdout",
     "output_type": "stream",
     "text": [
      "In a function way:  [0, 1, 4, 9, 16, 25, 36, 49, 64, 81]\n",
      "In a comprehension way:  [0, 1, 4, 9, 16, 25, 36, 49, 64, 81]\n"
     ]
    }
   ],
   "source": [
    "## Question 3\n",
    "# In a function way\n",
    "def square_generator(n):\n",
    "    for i in range(n):\n",
    "        yield i**2\n",
    "squares = []\n",
    "for value in square_generator(10):\n",
    "    squares.append(value)\n",
    "print('In a function way: ', squares)\n",
    "\n",
    "# In a comprehension way\n",
    "squares = [n**2 for n in range(10)]\n",
    "print('In a comprehension way: ',squares)"
   ]
  },
  {
   "cell_type": "markdown",
   "metadata": {},
   "source": [
    "## Question 4 Fibonacci Numbers Generator\n"
   ]
  },
  {
   "cell_type": "code",
   "execution_count": 183,
   "metadata": {},
   "outputs": [
    {
     "name": "stdout",
     "output_type": "stream",
     "text": [
      "0\n",
      "1\n",
      "1\n",
      "2\n",
      "3\n",
      "5\n",
      "8\n",
      "13\n",
      "21\n",
      "34\n"
     ]
    }
   ],
   "source": [
    "## Question 4\n",
    "def fibonacci():\n",
    "    a, b = 0, 1\n",
    "    while True:\n",
    "        yield a\n",
    "        a, b = b, a + b\n",
    "\n",
    "f= fibonacci()\n",
    "for _ in range(10):\n",
    "    print(next(f))  "
   ]
  },
  {
   "cell_type": "markdown",
   "metadata": {},
   "source": [
    "## Question 5 Word Length Counter"
   ]
  },
  {
   "cell_type": "code",
   "execution_count": 184,
   "metadata": {},
   "outputs": [
    {
     "name": "stdout",
     "output_type": "stream",
     "text": [
      "[6, 4, 5, 5]\n"
     ]
    }
   ],
   "source": [
    "## Question 5 \n",
    "vowels = ['a', 'e', 'i', 'o', 'u']\n",
    "input_list = ['apple', 'banana', 'orange', 'kiwi', 'grape', 'elephant', 'tiger', 'lion', 'mouse']\n",
    "\n",
    "output_list = [\n",
    "    len(word) for word in input_list \n",
    "    if word[0] not in vowels and word[-1] in vowels\n",
    "    ]\n",
    "\n",
    "print(output_list)"
   ]
  },
  {
   "cell_type": "markdown",
   "metadata": {},
   "source": [
    "## Question 6 `namedtuple`"
   ]
  },
  {
   "cell_type": "code",
   "execution_count": 185,
   "metadata": {},
   "outputs": [
    {
     "name": "stdout",
     "output_type": "stream",
     "text": [
      "Name: Alice, Age: 20, Grade: A, Major: Economics\n",
      "Name: Bob, Age: 22, Grade: B, Major: Mathematics\n",
      "Name: Charlie, Age: 21, Grade: B, Major: Physics\n"
     ]
    }
   ],
   "source": [
    "## Question 6 \n",
    "from collections import namedtuple\n",
    "\n",
    "# 1. create a namedtuple called \"Student\"\n",
    "Student = namedtuple('Student', ['name', 'age', 'grade', 'major'])\n",
    "\n",
    "# 2. create a list of Student records\n",
    "students = [\n",
    "    Student(\"Alice\", 20, \"A\", \"Economics\"),\n",
    "    Student(\"Bob\", 22, \"B\", \"Mathematics\"),\n",
    "    Student(\"Charlie\", 21, \"B\", \"Physics\")\n",
    "]\n",
    "# 3. Print the details of all students\n",
    "for student in students:\n",
    "    print(f\"Name: {student.name}, Age: {student.age}, Grade: {student.grade}, Major: {student.major}\")"
   ]
  },
  {
   "cell_type": "markdown",
   "metadata": {},
   "source": [
    "## Question 7 Cross Validation\n",
    "\n",
    "To facilitate the computation of $s_{xy}$, we can write a function to calculate:\n",
    "\n",
    "$$\n",
    "\\begin{aligned}\n",
    "& S_{x x}=\\sum_{i=1}^n (x_i-\\bar x)^2 = \\sum_{i=1}^n x_i^2-\\frac{\\left(\\sum_{i=1}^n x_i\\right)^2}{n} \\\\\n",
    "& S_{x y}=\\sum_{i=1}^n (x_i-\\bar x)(y_i-\\bar y)=\\sum_{i=1}^n x_i y_i-\\frac{\\left(\\sum_{i=1}^n x_i\\right)\\left(\\sum_{i=1}^n y_i\\right)}{n}\n",
    "\\end{aligned}\n",
    "$$\n",
    "\n"
   ]
  },
  {
   "cell_type": "code",
   "execution_count": 131,
   "metadata": {},
   "outputs": [
    {
     "name": "stdout",
     "output_type": "stream",
     "text": [
      "Step 1\n",
      "\tOLS estimates: a_hat = -0.500, b_hat = 1.000\n",
      "\n",
      "Step 2\n",
      "\tOLS model: y = -0.500 + 1.000 * x.\n",
      "\twhen x = 4.000, y = 3.500\n",
      "\n",
      "Step 3\n",
      "squared residual = 2.25\n",
      "\n",
      "Step 4\n",
      "validation fold --> 0\n",
      "\tOLS estimates: a_hat = -2.000, b_hat = 1.700\n",
      "\tOLS model: y = -2.000 + 1.700 * x.\n",
      "\twhen x = 4.000, y = 4.800\n",
      "validation fold --> 1\n",
      "\tOLS estimates: a_hat = -0.514, b_hat = 1.229\n",
      "\tOLS model: y = -0.514 + 1.229 * x.\n",
      "\twhen x = 4.000, y = 4.400\n",
      "validation fold --> 2\n",
      "\tOLS estimates: a_hat = -0.600, b_hat = 1.300\n",
      "\tOLS model: y = -0.600 + 1.300 * x.\n",
      "\twhen x = 4.000, y = 4.600\n",
      "validation fold --> 3\n",
      "\tOLS estimates: a_hat = -0.800, b_hat = 1.314\n",
      "\tOLS model: y = -0.800 + 1.314 * x.\n",
      "\twhen x = 4.000, y = 4.457\n",
      "validation fold --> 4\n",
      "\tOLS estimates: a_hat = -0.500, b_hat = 1.000\n",
      "\tOLS model: y = -0.500 + 1.000 * x.\n",
      "\twhen x = 4.000, y = 3.500\n",
      "\n",
      "Step 5\n",
      "\tvalidation loss = 3.1046938775510204\n"
     ]
    }
   ],
   "source": [
    "# Question 7\n",
    "\n",
    "import numpy as np\n",
    "np.set_printoptions(precision=3)\n",
    "\n",
    "x = np.array([0, 1, 2, 3, 4], dtype=float)\n",
    "y = np.array([0, 0, 1, 3, 5.0], dtype=float)\n",
    "\n",
    "def s(x, y):\n",
    "    return np.sum(x * y) - np.sum(x)*np.sum(y)/len(x)\n",
    "\n",
    "def estimate(x, y):\n",
    "    s_xx = s(x, x)\n",
    "    s_xy = s(x, y)\n",
    "    b_hat = s_xy/ s_xx\n",
    "    a_hat = np.mean(y) - b_hat*np.mean(x)\n",
    "    print(f'\\tOLS estimates: a_hat = {a_hat:.3f}, b_hat = {b_hat:.3f}')\n",
    "    return a_hat, b_hat\n",
    "\n",
    "def predict(x, a_hat, b_hat):\n",
    "    '''\n",
    "    given x and estimates, predict y \n",
    "    '''\n",
    "    y_pred = a_hat + b_hat*x\n",
    "    print(f'\\tOLS model: y = {a_hat:.3f} + {b_hat:.3f} * x.\\n\\twhen x = {x:.3f}, y = {y_pred:.3f}')\n",
    "    return y_pred\n",
    "\n",
    "def squared_residual(y_pred, y_true):\n",
    "    '''\n",
    "    calculate the squared residual\n",
    "    '''\n",
    "    return (y_pred - y_true)**2\n",
    "\n",
    "\n",
    "\n",
    "# Step 1. Use folds 1,2,3,4 to estimate the parameters:\n",
    "val_idx = 4\n",
    "x_train = np.delete(x, val_idx, axis=0)\n",
    "y_train = np.delete(y, val_idx, axis=0)\n",
    "\n",
    "print('Step 1')\n",
    "a_hat, b_hat = estimate(x_train, y_train)\n",
    "\n",
    "# Step 2. Predict on the validation fold \n",
    "x_val = x[val_idx]\n",
    "y_val = y[val_idx]\n",
    "\n",
    "print('\\nStep 2')\n",
    "y_pred = predict(x_val, a_hat, b_hat)\n",
    "\n",
    "# Step 3. Find the squared residual for the validation fold  \n",
    "r = squared_residual(y_pred, y_val)\n",
    "print(f'\\nStep 3')\n",
    "print(f'squared residual = {r}')\n",
    "\n",
    "# Step 4. Repeat Steps 1-3 but switch folds:\n",
    "residuals = []\n",
    "\n",
    "print(f'\\nStep 4')\n",
    "\n",
    "for val_idx in range(5):\n",
    "    print(f'validation fold --> {val_idx}')\n",
    "\n",
    "    x_train = np.delete(x, val_idx, axis=0)\n",
    "    y_train = np.delete(y, val_idx, axis=0)\n",
    "\n",
    "    a_hat, b_hat = estimate(x_train, y_train)\n",
    "\n",
    "    y_pred = predict(x_val, a_hat, b_hat)\n",
    "\n",
    "    r = squared_residual(y_pred, y_val)\n",
    "\n",
    "    residuals.append(r)\n",
    "\n",
    "#  Step 5. Calculate validation loss by adding up squared residuals\n",
    "print(f'\\nStep 5')\n",
    "v_1 = sum(residuals)\n",
    "print(f'\\tvalidation loss = {v_1}')\n"
   ]
  },
  {
   "cell_type": "code",
   "execution_count": null,
   "metadata": {},
   "outputs": [],
   "source": []
  }
 ],
 "metadata": {
  "kernelspec": {
   "display_name": "Python 3",
   "language": "python",
   "name": "python3"
  },
  "language_info": {
   "codemirror_mode": {
    "name": "ipython",
    "version": 3
   },
   "file_extension": ".py",
   "mimetype": "text/x-python",
   "name": "python",
   "nbconvert_exporter": "python",
   "pygments_lexer": "ipython3",
   "version": "3.11.7"
  }
 },
 "nbformat": 4,
 "nbformat_minor": 2
}
