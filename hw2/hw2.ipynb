{
 "cells": [
  {
   "cell_type": "markdown",
   "metadata": {},
   "source": [
    "# Programming for Artificial Intelligence（Python）- Homework 2\n",
    "\n",
    "**Student:** 林澈 \n",
    "\n",
    "**Student ID:** 15220202205098\n"
   ]
  },
  {
   "cell_type": "markdown",
   "metadata": {},
   "source": [
    "## Question 1 OLS Estimate\n",
    "\n",
    "Given the model:\n",
    "\n",
    "$$\n",
    "y = f(x; a, b) = a + bx,\n",
    "$$\n",
    "\n",
    "The slope $b$ can be estimated as:\n",
    "\n",
    "$$\n",
    "\\hat{b} = \\frac{s_{xy}}{s_{xx}} = \\frac{\\sum_{i=1}^n(x_i-\\bar{x})(y_i-\\bar{y})}{\\sum_{i=1}^n(x_i-\\bar{x})^2},\n",
    "$$\n",
    "\n",
    "where \n",
    "- $s_{xy}$ is the covariance of $x$ and $y$\n",
    "- $s_{xx}$ is the variance of $x$. \n",
    "\n",
    "The estimate of the intercept $a$ can be calculated as:\n",
    "\n",
    "$$\n",
    "\\hat{a} = \\bar{y} - \\hat{b}\\bar{x}.\n",
    "$$\n",
    "\n"
   ]
  },
  {
   "cell_type": "code",
   "execution_count": 1,
   "metadata": {},
   "outputs": [],
   "source": [
    "# Question 1 OLS Estimate\n",
    "\n",
    "import numpy as np\n",
    "\n",
    "def estimate_parameters(x, y):\n",
    "    \"\"\"Estimate the intercept (a_hat) and slope (b_hat) of a linear model y = a + bx.\"\"\"\n",
    "    x_mean = np.mean(x)\n",
    "    y_mean = np.mean(y)\n",
    "\n",
    "    s_xy = np.sum((x - x_mean) * (y - y_mean))\n",
    "    s_xx = np.sum((x - x_mean) ** 2)\n",
    "    \n",
    "    b_hat = s_xy / s_xx\n",
    "    a_hat = y_mean - b_hat * x_mean\n",
    "    \n",
    "    return a_hat, b_hat\n",
    "\n",
    "# Example \n",
    "x = np.array([1, 2, 3])\n",
    "y = np.array([1, 2, 6])\n",
    "a_hat, b_hat = estimate_parameters(x, y)\n",
    "print(f'Intercept estimate: {a_hat}, Slope estimate: {b_hat}')\n"
   ]
  },
  {
   "cell_type": "markdown",
   "metadata": {},
   "source": [
    "## Question 2 set() & {}\n",
    "\n",
    "Given the experiments below, \n",
    "\n",
    "\n",
    "```python\n",
    "set(1,2,3)      # raises an error\n",
    "set((1,2,3))    # creates a set\n",
    "set(1)          # raises an error\n",
    "set((1))        # raises an error\n",
    "set(1,)         # raises an error\n",
    "set((1,))       # creates a set\n",
    "{1,2,3}         # creates a set of three elements\n",
    "{(1,2,3)}       # creates a set of one element\n",
    "```\n",
    "\n",
    "We can find that\n",
    "\n",
    "- The notation `{}` is used to create a set.\n",
    "- The function `set()` can not only create a new set from an iterable but also convert an iterable to a set.\n"
   ]
  },
  {
   "cell_type": "code",
   "execution_count": null,
   "metadata": {},
   "outputs": [
    {
     "data": {
      "text/plain": [
       "{(1, 2, 3)}"
      ]
     },
     "execution_count": 2,
     "metadata": {},
     "output_type": "execute_result"
    }
   ],
   "source": [
    "# Question 2.1 create the set {(1,2,3)} with the set() \n",
    "set([(1,2,3)])"
   ]
  },
  {
   "cell_type": "code",
   "execution_count": null,
   "metadata": {},
   "outputs": [
    {
     "name": "stdout",
     "output_type": "stream",
     "text": [
      "Key: key3 not found in the dictionary.\n"
     ]
    }
   ],
   "source": [
    "# Question 2.2 try-except structure\n",
    "\n",
    "dict1 = {\"key1\": \"value1\",\n",
    "         \"key2\": \"value2\"}\n",
    "\n",
    "def myget(d:dict, key:str) -> str:\n",
    "    \"\"\"Return the value of the key if it exists in the dictionary, otherwise return None.\"\"\"\n",
    "    try:\n",
    "        return d[key]\n",
    "    except KeyError:\n",
    "        print(f\"Key: {key} not found in the dictionary.\")\n",
    "        return None\n",
    "\n",
    "myget(dict1, \"key1\") # should return \"value1\"\n",
    "myget(dict1, \"key3\") # should not raise an error"
   ]
  },
  {
   "cell_type": "markdown",
   "metadata": {},
   "source": [
    "## References:\n",
    "\n",
    "- https:///docs.python.org/3/tutorial/datastructures.html#sets"
   ]
  }
 ],
 "metadata": {
  "kernelspec": {
   "display_name": "Python 3",
   "language": "python",
   "name": "python3"
  },
  "language_info": {
   "codemirror_mode": {
    "name": "ipython",
    "version": 3
   },
   "file_extension": ".py",
   "mimetype": "text/x-python",
   "name": "python",
   "nbconvert_exporter": "python",
   "pygments_lexer": "ipython3",
   "version": "3.9.19"
  }
 },
 "nbformat": 4,
 "nbformat_minor": 2
}
